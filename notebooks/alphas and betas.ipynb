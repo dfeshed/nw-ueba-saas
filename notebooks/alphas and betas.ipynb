{
 "cells": [
  {
   "cell_type": "markdown",
   "metadata": {},
   "source": [
    "# Automatic alphas and betas calculator\n",
    "This script automatically calculates alphas and betas for the SMART alerts.\n",
    "It was written both for research (prior to writing production code) and for POCs (running versions of the product without automatic alphas and betas calculation in the production code).\n",
    "\n",
    "### Assumptions:\n",
    "This script assumes that there's an accessible mongo with the following populated collections:\n",
    "* `entity_event_normalized_username_daily`\n",
    "* `entity_event_normalized_username_hourly`\n",
    "\n",
    "The collections are used for two purposes:\n",
    "* Get the distribution of Fs and Ps. The distribution is used in the first part of the algorithm - in order to give a penalty for eac F and P for its noisiness.\n",
    "* Get all of the entity events. This is used in the second part of the algorithm - in order to iteratively decreases alphas and betas until the top entity events have a good ratio of participating Fs and Ps.\n",
    "\n",
    "### Configuration:\n",
    "* `mongo_ip` should be configured with the right ip.\n",
    "* `verbose` can be set to `True` in order to print more stuff.\n",
    "* `show_graphs` should be set to `True` only when you want to display graphs (typically in research environment).\n",
    "* `START_TIME` and `END_TIME` can be used in order to limit the entities that will be retrieved. If this is used and there's a file `entities.txt` with previous query results (but different time interval), the results will be combined and saved to the file. If one of them is `None`, it is automatically changed to the time of the first / last entity in mongo.\n",
    "* `NUM_OF_ALERTS_PER_DAY` can be configured (which affects the `low-values-score-reduction` applied to the SMART score).\n",
    "* `BASE_ALPHA`, `BASE_BETA` - the $\\alpha$ / $\\beta$ value set for Fs / Ps which are not noisy at all. These typically shouldn't be changed.\n",
    "* `REDUCERS` control the configuration for the `low-values-score-reduction`s applied to the Fs. In other words, if some F in mongo has many high scores and you decide to reduce them using the `low-values-score-reduction`, there's a problem - since the scores in mongo are \"wrong\". So you can set these parameters in order to simulate the behaviour of the production java code associated with the `low-values-score-reduction`. In order to automatically calculate `MIN_VALUE_FOR_NOT_REDUCE`, you can run \"`low values reduction.py`\".\n",
    "* `FIXED_W_DAILY` and `FIXED_W_HOURLY` can be used in order to decide in advance what some $\\alpha$ / $\\beta$ should be.\n",
    "* `aggregated_feature_event_prevalance_stats_path` is the path to the version of the configuration installed for the customer. The reason this is needed is because some Fs have already been reduced, so before applying the reduction using `MIN_VALUE_FOR_NOT_REDUCE`, the original reduction must be undone.\n",
    "\n",
    "### Output:\n",
    "The weights (alphas and betas) are printed first (referred to as `w`). First is the daily and then is the hourly.\n",
    "\n",
    "Then, the output for the low-values-score-reducer configs is printed (daily and then ourly). These are the parameters that should be used in `aggregated-feature_event-prevalance-stats.properties`).\n",
    "\n",
    "### Re-runs:\n",
    "The first run might take a while (because of the mongo queries). Re-runs will run much faster, because the queries output are saved to local files (`fs_and_ps.json` and `entities.json`), and are re-used in re-runs."
   ]
  },
  {
   "cell_type": "code",
   "execution_count": null,
   "metadata": {
    "collapsed": false,
    "scrolled": true
   },
   "outputs": [],
   "source": [
    "import sys\n",
    "sys.path.append('..')\n",
    "from common import config\n",
    "from alphas_and_betas import main\n",
    "if config.show_graphs:\n",
    "    import matplotlib.pyplot as plt\n",
    "    import seaborn as sns\n",
    "    %matplotlib inline"
   ]
  },
  {
   "cell_type": "code",
   "execution_count": null,
   "metadata": {
    "collapsed": false
   },
   "outputs": [],
   "source": [
    "%load_ext autoreload\n",
    "%autoreload 2"
   ]
  },
  {
   "cell_type": "code",
   "execution_count": null,
   "metadata": {
    "collapsed": false,
    "scrolled": true
   },
   "outputs": [],
   "source": [
    "%%javascript\n",
    "//IPython.load_extensions('usability\\\\execute_time\\\\ExecuteTime');"
   ]
  },
  {
   "cell_type": "code",
   "execution_count": null,
   "metadata": {
    "collapsed": false,
    "scrolled": true
   },
   "outputs": [],
   "source": [
    "main.main(mongo_ip = '192.168.45.44', path = 'entities.txt')"
   ]
  },
  {
   "cell_type": "code",
   "execution_count": null,
   "metadata": {
    "collapsed": true
   },
   "outputs": [],
   "source": []
  }
 ],
 "metadata": {
  "kernelspec": {
   "display_name": "Python 2",
   "language": "python",
   "name": "python2"
  },
  "language_info": {
   "codemirror_mode": {
    "name": "ipython",
    "version": 2
   },
   "file_extension": ".py",
   "mimetype": "text/x-python",
   "name": "python",
   "nbconvert_exporter": "python",
   "pygments_lexer": "ipython2",
   "version": "2.7.9"
  }
 },
 "nbformat": 4,
 "nbformat_minor": 0
}
