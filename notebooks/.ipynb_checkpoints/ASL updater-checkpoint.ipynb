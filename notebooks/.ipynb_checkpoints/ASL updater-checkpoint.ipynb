{
 "cells": [
  {
   "cell_type": "markdown",
   "metadata": {},
   "source": [
    "# ASL updater\n",
    "This script alters the SMART ASL configuration file - it updates the $\\alpha$'s and $\\beta$'s according to the specified configuration.\n",
    "\n",
    "### Configuration:\n",
    "* `entity_events_path` the path to the configuration file.\n",
    "* `W` are the weights to update. These can be obtainedd by using the \"`alphas and betas.ipynb`\" script.\n",
    "* `DEFAULT_ALPHA` and `DEFAULT_BETA` are used for everything that is not specified in `W`. It's adviced they'll be the same as `BASE_ALPHA` and `BASE_BETA` specified in \"`alphas and betas.ipynb`\".\n",
    "\n",
    "### Output:\n",
    "The input file is overridden with the $\\alpha$'s and $\\beta$'s. The original file's content is moved to a backup file in the same directory as the input file (with timestamp in the file's name)."
   ]
  },
  {
   "cell_type": "code",
   "execution_count": null,
   "metadata": {
    "collapsed": true
   },
   "outputs": [],
   "source": [
    "#entity_events_path = r'C:\\Users\\yoelz\\projects\\fortscale-core\\fortscale\\fortscale-aggregation\\src\\main\\resources\\config\\asl\\entity_events.json'\n",
    "entity_events_path = r'/home/cloudera/fortscale/config/asl/entity_events/overriding/entity_events.json'\n",
    "W = {\n",
    "    'normalized_username_daily': {\n",
    "        'F': {\n",
    "        },\n",
    "        'P': {\n",
    "        }\n",
    "    },\n",
    "    'normalized_username_hourly': {\n",
    "        'F': {\n",
    "        },\n",
    "        'P': {\n",
    "        }\n",
    "    }\n",
    "}\n",
    "DEFAULT_ALPHA = 0.1\n",
    "DEFAULT_BETA = 0.001"
   ]
  },
  {
   "cell_type": "code",
   "execution_count": null,
   "metadata": {
    "collapsed": true
   },
   "outputs": [],
   "source": [
    "import re\n",
    "import os\n",
    "import json\n",
    "import datetime"
   ]
  },
  {
   "cell_type": "code",
   "execution_count": null,
   "metadata": {
    "collapsed": false
   },
   "outputs": [],
   "source": [
    "from json import encoder\n",
    "encoder.FLOAT_REPR = lambda o: format(o, '.8f')\n",
    "\n",
    "def update_weights(lines, w, default_alpha, default_beta):\n",
    "    j = json.loads(''.join(lines))\n",
    "    for definition in j['EntityEventDefinitions']:\n",
    "        cluster_name_to_f_name = {}\n",
    "        for cluster_name, f_names in definition['entityEventFunction']['clusters'].iteritems():\n",
    "            if len(f_names) != 1:\n",
    "                raise Exception('clusters with multiple Fs are not supported yet')\n",
    "            f_name = f_names[0]\n",
    "            f_name = f_name[f_name.index('.') + 1:]\n",
    "            cluster_name_to_f_name[cluster_name] = f_name\n",
    "                \n",
    "        betas = definition['entityEventFunction']['betas']\n",
    "        weights = w[definition['name']]['P']\n",
    "        for p_name in betas.iterkeys():\n",
    "            short_name = p_name[p_name.index('.') + 1:]\n",
    "            if not weights.has_key(short_name):\n",
    "                print 'warning:', short_name, 'is not specified in the configuration. using default of', default_beta\n",
    "            betas[p_name] = weights.pop(short_name, default_beta)\n",
    "            \n",
    "        alphas = definition['entityEventFunction']['alphas']\n",
    "        weights = w[definition['name']]['F']\n",
    "        for cluster_name in alphas.iterkeys():\n",
    "            f_name = cluster_name_to_f_name[cluster_name]\n",
    "            if not weights.has_key(f_name):\n",
    "                print 'warning:', f_name, 'is not specified in the configuration. using default of', default_alpha\n",
    "            alphas[cluster_name] = weights.pop(f_name, default_alpha)\n",
    "            \n",
    "    for weights in w.itervalues():\n",
    "        if sum([len(v) for v in weights.itervalues()]) > 0:\n",
    "            raise Exception('W has illegal weight name')\n",
    "            \n",
    "    return json.dumps(j, indent = 2, sort_keys = True)"
   ]
  },
  {
   "cell_type": "code",
   "execution_count": null,
   "metadata": {
    "collapsed": false,
    "scrolled": false
   },
   "outputs": [],
   "source": [
    "with open(entity_events_path, 'r') as f:\n",
    "    conf_lines = f.readlines()\n",
    "transformed = update_weights(conf_lines, W, DEFAULT_ALPHA, DEFAULT_BETA)\n",
    "\n",
    "now = str(datetime.datetime.now()).replace(' ', '_').replace(':', '-')\n",
    "now = now[:now.index('.')]\n",
    "os.rename(entity_events_path, entity_events_path + '.backup-' + now)\n",
    "with open(entity_events_path, 'w') as f:\n",
    "    f.writelines(transformed)"
   ]
  },
  {
   "cell_type": "code",
   "execution_count": null,
   "metadata": {
    "collapsed": true
   },
   "outputs": [],
   "source": []
  }
 ],
 "metadata": {
  "kernelspec": {
   "display_name": "Python 2",
   "language": "python",
   "name": "python2"
  },
  "language_info": {
   "codemirror_mode": {
    "name": "ipython",
    "version": 2
   },
   "file_extension": ".py",
   "mimetype": "text/x-python",
   "name": "python",
   "nbconvert_exporter": "python",
   "pygments_lexer": "ipython2",
   "version": "2.7.9"
  }
 },
 "nbformat": 4,
 "nbformat_minor": 0
}
