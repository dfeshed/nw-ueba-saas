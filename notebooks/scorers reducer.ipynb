{
 "cells": [
  {
   "cell_type": "markdown",
   "metadata": {},
   "source": [
    "# Scorers reducer\n",
    "This script alters the scorers configuration file such that each scorer specified in the given configuration will be wrapped by a `low-values-score-reducer` accordingly.\n",
    "\n",
    "### Configuration:\n",
    "* `aggregated_feature_event_prevalance_stats_path` is the path to the configuration file.\n",
    "* `REDUCERS` maps each F that should be wrapped to its reduction parameters.\n",
    "\n",
    "### Output:\n",
    "The input file is overridden with the updated scorers (lines that have nothing to do with the wrapped scorers are kept unchanged). The original file's content is moved to a backup file in the same directory as the input file (with timestamp in the file's name)."
   ]
  },
  {
   "cell_type": "code",
   "execution_count": null,
   "metadata": {
    "collapsed": true
   },
   "outputs": [],
   "source": [
    "#aggregated_feature_event_prevalance_stats_path = r'C:\\Users\\yoelz\\projects\\fortscale-core\\fortscale\\fortscale-streaming\\config\\aggregated-feature_event-prevalance-stats.properties'\n",
    "aggregated_feature_event_prevalance_stats_path = r'/home/cloudera/fortscale/streaming/config/aggregated-feature_event-prevalance-stats.properties'\n",
    "REDUCERS = {\n",
    "#    'number_of_failed_vpn_daily': {\n",
    "#        'min_value_for_not_reduce': 7,\n",
    "#        'max_value_for_fully_reduce': 2,\n",
    "#        'reducing_factor': 0.1\n",
    "#    }\n",
    "}"
   ]
  },
  {
   "cell_type": "code",
   "execution_count": null,
   "metadata": {
    "collapsed": true
   },
   "outputs": [],
   "source": [
    "import re\n",
    "import os\n",
    "import datetime"
   ]
  },
  {
   "cell_type": "code",
   "execution_count": null,
   "metadata": {
    "collapsed": false
   },
   "outputs": [],
   "source": [
    "def find_f_name_to_scorer_names(lines, reducers):\n",
    "    f_names = list(reducers.iterkeys())\n",
    "    f_name_to_scorer_names = {}\n",
    "    for l in lines:\n",
    "        match = re.search('fortscale\\.aggr_event\\..*\\.(' + '|'.join(f_names) + ').fortscale.scorers=(.+)', l)\n",
    "        if match is not None:\n",
    "            f_name, scorer_name = match.groups()\n",
    "            if f_name_to_scorer_names.has_key(f_name):\n",
    "                raise Exception('duplicate F name: ' + f_name)\n",
    "            if scorer_name in f_name_to_scorer_names.itervalues():\n",
    "                raise Exception('duplicate scorer: ' + scorer_name)\n",
    "            f_name_to_scorer_names[match.group(1)] = scorer_name\n",
    "    return f_name_to_scorer_names\n",
    "\n",
    "def update_reducer_if_needed(l, f_name_to_scorer_names, reducers):\n",
    "    match = re.search('(fortscale\\.aggr_event\\..*\\.(' + '|'.join(f_name_to_scorer_names.itervalues()) +\n",
    "                      ')\\.reduction\\.configs=)', l)\n",
    "    if match is not None:\n",
    "        prefix, scorer_name = match.groups()\n",
    "        f_name = [entry[0] for entry in f_name_to_scorer_names.iteritems() if entry[1] == scorer_name][0]\n",
    "        reducer = reducers[f_name]\n",
    "        l = prefix + '{\"reductionConfigs\":[{\"reducingFeatureName\":\"aggregated_feature_value\",\"reducingFactor\":' + \\\n",
    "            str(reducer['reducing_factor']) + ',\"maxValueForFullyReduce\":' + str(reducer['max_value_for_fully_reduce']) + \\\n",
    "            ',\"minValueForNotReduce\":' + str(reducer['min_value_for_not_reduce']) + '}]}' + '\\n'\n",
    "    return l\n",
    "\n",
    "def transform_to_reducer_if_needed(l, f_name_to_scorer_names, reducers):\n",
    "    match = re.search('fortscale\\.aggr_event\\..*\\.(' + '|'.join(f_name_to_scorer_names.itervalues()) + ')\\.', l)\n",
    "    if match is not None:\n",
    "        scorer_name = match.group(1)\n",
    "        prefix = l[:l.index('.fortscale') + len('.fortscale')]\n",
    "        suffix = scorer_name.find('_scorer')\n",
    "        if suffix < 0:\n",
    "            print 'warning: scorer name is not according to convention - ' + scorer_name\n",
    "            suffix = len(scorer_name)\n",
    "        base_scorer_name = scorer_name[:suffix] + '_base_scorer'\n",
    "        if l.endswith('output.field.name=score\\n'):\n",
    "            f_name = [entry[0] for entry in f_name_to_scorer_names.iteritems() if entry[1] == scorer_name][0]\n",
    "            reducer = reducers[f_name]\n",
    "            l += prefix + '.score.' + scorer_name + '.scorer=low-values-score-reducer' + '\\n'\n",
    "            l += prefix + '.score.' + scorer_name + '.base.scorer=' + base_scorer_name + '\\n'\n",
    "            l += prefix + '.score.' + scorer_name + \\\n",
    "                '.reduction.configs={\"reductionConfigs\":[{\"reducingFeatureName\":\"aggregated_feature_value\",\"reducingFactor\":' + \\\n",
    "                str(reducer['reducing_factor']) + ',\"maxValueForFullyReduce\":' + str(reducer['max_value_for_fully_reduce']) + \\\n",
    "                ',\"minValueForNotReduce\":' + str(reducer['min_value_for_not_reduce']) + '}]}' + '\\n'\n",
    "            l += prefix + '.score.' + base_scorer_name + '.output.field.name=baseScore' + '\\n'\n",
    "        else:\n",
    "            l = l.replace(scorer_name, base_scorer_name)\n",
    "    return l\n",
    "        \n",
    "def wrap_scorers(lines, f_name_to_scorer_names, reducers):\n",
    "    fs_with_low_values_scorer_to_scorer_name = {}\n",
    "    fs_with_non_low_values_scorer_to_scorer_name = {}\n",
    "    for l in lines:\n",
    "        match = re.search('fortscale\\.aggr_event\\..*\\.(' + '|'.join(f_name_to_scorer_names.itervalues()) + ')\\.scorer=(.+)', l)\n",
    "        if match is not None:\n",
    "            scorer_name, scorer_type = match.groups()\n",
    "            f_name = [entry[0] for entry in f_name_to_scorer_names.iteritems() if entry[1] == scorer_name][0]\n",
    "            if scorer_type == 'low-values-score-reducer':\n",
    "                fs_with_low_values_scorer_to_scorer_name[f_name] = f_name_to_scorer_names[f_name]\n",
    "            else:\n",
    "                fs_with_non_low_values_scorer_to_scorer_name[f_name] = f_name_to_scorer_names[f_name]\n",
    "    res = ''\n",
    "    for l in lines:\n",
    "        l = update_reducer_if_needed(l, fs_with_low_values_scorer_to_scorer_name, reducers)\n",
    "        l = transform_to_reducer_if_needed(l, fs_with_non_low_values_scorer_to_scorer_name, reducers)\n",
    "        res += l\n",
    "    return res"
   ]
  },
  {
   "cell_type": "code",
   "execution_count": null,
   "metadata": {
    "collapsed": false,
    "scrolled": true
   },
   "outputs": [],
   "source": [
    "with open(aggregated_feature_event_prevalance_stats_path, 'r') as f:\n",
    "    conf_lines = f.readlines()\n",
    "f_name_to_scorer_names = find_f_name_to_scorer_names(conf_lines, REDUCERS)\n",
    "transformed = wrap_scorers(conf_lines, f_name_to_scorer_names, REDUCERS)\n",
    "\n",
    "now = str(datetime.datetime.now()).replace(' ', '_').replace(':', '-')\n",
    "now = now[:now.index('.')]\n",
    "os.rename(aggregated_feature_event_prevalance_stats_path, aggregated_feature_event_prevalance_stats_path + '.backup-' + now)\n",
    "with open(aggregated_feature_event_prevalance_stats_path, 'w') as f:\n",
    "    f.writelines(transformed)"
   ]
  },
  {
   "cell_type": "code",
   "execution_count": null,
   "metadata": {
    "collapsed": true
   },
   "outputs": [],
   "source": []
  }
 ],
 "metadata": {
  "kernelspec": {
   "display_name": "Python 2",
   "language": "python",
   "name": "python2"
  },
  "language_info": {
   "codemirror_mode": {
    "name": "ipython",
    "version": 2
   },
   "file_extension": ".py",
   "mimetype": "text/x-python",
   "name": "python",
   "nbconvert_exporter": "python",
   "pygments_lexer": "ipython2",
   "version": "2.7.9"
  }
 },
 "nbformat": 4,
 "nbformat_minor": 0
}
